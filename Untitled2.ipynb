{
 "cells": [
  {
   "cell_type": "code",
   "execution_count": 1,
   "id": "79d64bf3-b1bf-429e-a701-c663a0aec941",
   "metadata": {},
   "outputs": [],
   "source": [
    "from dotenv import load_dotenv"
   ]
  },
  {
   "cell_type": "code",
   "execution_count": 2,
   "id": "9a7d3332-3d9b-40a6-a774-510751de2044",
   "metadata": {},
   "outputs": [
    {
     "data": {
      "text/plain": [
       "True"
      ]
     },
     "execution_count": 2,
     "metadata": {},
     "output_type": "execute_result"
    }
   ],
   "source": [
    "load_dotenv()"
   ]
  },
  {
   "cell_type": "code",
   "execution_count": 3,
   "id": "f0707e95-afc1-4ca7-bf26-776d00c63255",
   "metadata": {},
   "outputs": [],
   "source": [
    "from dash.etl.extract_mun_data import Extractor\n",
    "import pandas as pd\n",
    "from config import CKAN_DOMAIN\n",
    "from typing import Generator"
   ]
  },
  {
   "cell_type": "code",
   "execution_count": 4,
   "id": "5fce1428-9887-45d4-969d-864c699738a2",
   "metadata": {},
   "outputs": [],
   "source": [
    "ckan = Extractor(CKAN_DOMAIN)"
   ]
  },
  {
   "cell_type": "code",
   "execution_count": 5,
   "id": "73329ea0-0edd-40c2-b3b4-2180af70f713",
   "metadata": {},
   "outputs": [
    {
     "data": {
      "text/plain": [
       "{'agricultura-municipal',\n",
       " 'anexo-metodologico-populacao',\n",
       " 'anexos-metodologicos-seade-municipios',\n",
       " 'aprovacao-escolar-por-municipio-ano-nivel-de-ensino-e-rede-de-atendimento',\n",
       " 'casamentos',\n",
       " 'cnae-20',\n",
       " 'codigos-nomes-dos-distritos-do-municipio-de-sao-paulo',\n",
       " 'comercio-exterior',\n",
       " 'comercio-exterior-nos-municipios',\n",
       " 'covid-19',\n",
       " 'demografia',\n",
       " 'domicilios-estado-de-sao-paulo',\n",
       " 'economia',\n",
       " 'educacao-basica-painel',\n",
       " 'educacao-do-ensino-superior',\n",
       " 'emprego-formal-2021-painel',\n",
       " 'emprego-formal-ocupacoes',\n",
       " 'emprego-rais-e-arquivos-auxiliares',\n",
       " 'equipamento',\n",
       " 'estabelecimentos-de-saude',\n",
       " 'estatisticas-vitais',\n",
       " 'estatisticas-vitais-microdados',\n",
       " 'ideb',\n",
       " 'indice-paulista-de-desenvolvimento-municipal-ipdm',\n",
       " 'informacoes-municipais',\n",
       " 'infraestrutura-e-meio-ambiente',\n",
       " 'leitos-hospitalares-por-municipio-por-ano',\n",
       " 'limites-e-regioes',\n",
       " 'matriculas-por-municipio-ano-nivel-de-ensino-e-rede-de-atendimento',\n",
       " 'medicos-e-enfermeiros-por-municipio-ano-e-rede-de-atendimento',\n",
       " 'microdados-casamentos',\n",
       " 'microdados-nascidos-vivos',\n",
       " 'microdados-obitos',\n",
       " 'mortalidade-infantil',\n",
       " 'mortalidade-no-estado-de-sao-paulo',\n",
       " 'municipios',\n",
       " 'nascidos-vivos',\n",
       " 'nascidos-vivos-municipio-de-sao-paulo',\n",
       " 'nomes-codigos-municipios-esp',\n",
       " 'obitos',\n",
       " 'obitos-municipio-de-sao-paulo',\n",
       " 'ocupacao-e-rendimento',\n",
       " 'painel-economia-agropecuaria',\n",
       " 'pecuaria-municipal',\n",
       " 'pesquisa-de-cuidados-no-domicilio',\n",
       " 'pib-anual-2002-2020',\n",
       " 'pib-mensal',\n",
       " 'pib-municipal-2002-2020',\n",
       " 'pib-regional',\n",
       " 'pib-trimestral',\n",
       " 'populacao-do-municipio-de-sao-paulo-por-distrito-e-idade-escolar',\n",
       " 'populacao-do-municipio-de-sao-paulo-por-distrito-e-porte-populacional',\n",
       " 'populacao-do-municipio-de-sp-por-distritos',\n",
       " 'populacao-municipal-2010-2022',\n",
       " 'populacao-municipal-por-sexo-e-idade-2010-2021',\n",
       " 'populacao-por-municipio-de-idade-escolar',\n",
       " 'populacao-residente-estado-de-sao-paulo',\n",
       " 'populacao-residente-estado-de-sao-paulo-evolucao',\n",
       " 'populacao-residente-municipio-de-sao-paulo',\n",
       " 'populacao-residente-municipio-de-sao-paulo-evolucao',\n",
       " 'populacao-total-2021-e-idadessimples',\n",
       " 'populacao-urbana-e-rural',\n",
       " 'projecao-da-populacao-do-estado-de-sao-paulo-por-idade-2021',\n",
       " 'projecao-da-populacao-por-municipio-idade-escolar-sexo-e-ano',\n",
       " 'projecao-da-populacao-por-municipio-idade-sexo-e-ano-2010-2021',\n",
       " 'saneamento-estado-de-sao-paulo-e-brasil',\n",
       " 'saude-painel',\n",
       " 'seade-censo-2022',\n",
       " 'seade-fecundidade',\n",
       " 'seade-industria',\n",
       " 'seade-investimentos',\n",
       " 'seade-investimentos-anexos-metodologicos',\n",
       " 'seade-painel',\n",
       " 'seade-trajetorias-ocupacionais',\n",
       " 'social',\n",
       " 'trajetorias-ocupacionais-anexos-metodologicos',\n",
       " 'transferencia-de-renda-painel',\n",
       " 'valor-de-transformacao-industrial-nos-municipios'}"
      ]
     },
     "execution_count": 5,
     "metadata": {},
     "output_type": "execute_result"
    }
   ],
   "source": [
    "ckan.check_available_packages()"
   ]
  },
  {
   "cell_type": "code",
   "execution_count": 6,
   "id": "35a42c84-cb67-448e-9827-7e6dd956cfac",
   "metadata": {},
   "outputs": [],
   "source": [
    "result = ckan.get_specified_package_with_resources('populacao-municipal-2010-2022', '2021')"
   ]
  },
  {
   "cell_type": "code",
   "execution_count": 7,
   "id": "1843dbcf-a0b7-4473-a9c6-54d90626246d",
   "metadata": {},
   "outputs": [
    {
     "data": {
      "text/html": [
       "<div>\n",
       "<style scoped>\n",
       "    .dataframe tbody tr th:only-of-type {\n",
       "        vertical-align: middle;\n",
       "    }\n",
       "\n",
       "    .dataframe tbody tr th {\n",
       "        vertical-align: top;\n",
       "    }\n",
       "\n",
       "    .dataframe thead th {\n",
       "        text-align: right;\n",
       "    }\n",
       "</style>\n",
       "<table border=\"1\" class=\"dataframe\">\n",
       "  <thead>\n",
       "    <tr style=\"text-align: right;\">\n",
       "      <th></th>\n",
       "      <th>cod_ibge</th>\n",
       "      <th>municipio</th>\n",
       "      <th>ano</th>\n",
       "      <th>populacao</th>\n",
       "    </tr>\n",
       "  </thead>\n",
       "  <tbody>\n",
       "    <tr>\n",
       "      <th>0</th>\n",
       "      <td>3500105</td>\n",
       "      <td>Adamantina</td>\n",
       "      <td>2000</td>\n",
       "      <td>33484</td>\n",
       "    </tr>\n",
       "    <tr>\n",
       "      <th>1</th>\n",
       "      <td>3500105</td>\n",
       "      <td>Adamantina</td>\n",
       "      <td>2001</td>\n",
       "      <td>33577</td>\n",
       "    </tr>\n",
       "    <tr>\n",
       "      <th>2</th>\n",
       "      <td>3500105</td>\n",
       "      <td>Adamantina</td>\n",
       "      <td>2002</td>\n",
       "      <td>33636</td>\n",
       "    </tr>\n",
       "    <tr>\n",
       "      <th>3</th>\n",
       "      <td>3500105</td>\n",
       "      <td>Adamantina</td>\n",
       "      <td>2003</td>\n",
       "      <td>33677</td>\n",
       "    </tr>\n",
       "    <tr>\n",
       "      <th>4</th>\n",
       "      <td>3500105</td>\n",
       "      <td>Adamantina</td>\n",
       "      <td>2004</td>\n",
       "      <td>33715</td>\n",
       "    </tr>\n",
       "    <tr>\n",
       "      <th>...</th>\n",
       "      <td>...</td>\n",
       "      <td>...</td>\n",
       "      <td>...</td>\n",
       "      <td>...</td>\n",
       "    </tr>\n",
       "    <tr>\n",
       "      <th>14185</th>\n",
       "      <td>3557154</td>\n",
       "      <td>Zacarias</td>\n",
       "      <td>2017</td>\n",
       "      <td>2498</td>\n",
       "    </tr>\n",
       "    <tr>\n",
       "      <th>14186</th>\n",
       "      <td>3557154</td>\n",
       "      <td>Zacarias</td>\n",
       "      <td>2018</td>\n",
       "      <td>2518</td>\n",
       "    </tr>\n",
       "    <tr>\n",
       "      <th>14187</th>\n",
       "      <td>3557154</td>\n",
       "      <td>Zacarias</td>\n",
       "      <td>2019</td>\n",
       "      <td>2539</td>\n",
       "    </tr>\n",
       "    <tr>\n",
       "      <th>14188</th>\n",
       "      <td>3557154</td>\n",
       "      <td>Zacarias</td>\n",
       "      <td>2020</td>\n",
       "      <td>2560</td>\n",
       "    </tr>\n",
       "    <tr>\n",
       "      <th>14189</th>\n",
       "      <td>3557154</td>\n",
       "      <td>Zacarias</td>\n",
       "      <td>2021</td>\n",
       "      <td>2574</td>\n",
       "    </tr>\n",
       "  </tbody>\n",
       "</table>\n",
       "<p>14190 rows × 4 columns</p>\n",
       "</div>"
      ],
      "text/plain": [
       "       cod_ibge   municipio   ano  populacao\n",
       "0       3500105  Adamantina  2000      33484\n",
       "1       3500105  Adamantina  2001      33577\n",
       "2       3500105  Adamantina  2002      33636\n",
       "3       3500105  Adamantina  2003      33677\n",
       "4       3500105  Adamantina  2004      33715\n",
       "...         ...         ...   ...        ...\n",
       "14185   3557154    Zacarias  2017       2498\n",
       "14186   3557154    Zacarias  2018       2518\n",
       "14187   3557154    Zacarias  2019       2539\n",
       "14188   3557154    Zacarias  2020       2560\n",
       "14189   3557154    Zacarias  2021       2574\n",
       "\n",
       "[14190 rows x 4 columns]"
      ]
     },
     "execution_count": 7,
     "metadata": {},
     "output_type": "execute_result"
    }
   ],
   "source": [
    "pd.DataFrame(result)"
   ]
  }
 ],
 "metadata": {
  "kernelspec": {
   "display_name": "Python 3 (ipykernel)",
   "language": "python",
   "name": "python3"
  },
  "language_info": {
   "codemirror_mode": {
    "name": "ipython",
    "version": 3
   },
   "file_extension": ".py",
   "mimetype": "text/x-python",
   "name": "python",
   "nbconvert_exporter": "python",
   "pygments_lexer": "ipython3",
   "version": "3.11.4"
  }
 },
 "nbformat": 4,
 "nbformat_minor": 5
}
