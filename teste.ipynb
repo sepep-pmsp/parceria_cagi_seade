{
 "cells": [
  {
   "cell_type": "code",
   "execution_count": 1,
   "id": "fc2d01e1-8913-439d-931e-4f4a707f4032",
   "metadata": {},
   "outputs": [],
   "source": [
    "from dotenv import load_dotenv"
   ]
  },
  {
   "cell_type": "code",
   "execution_count": 2,
   "id": "990054d4-5911-4f6d-a8a1-8a68e2169e94",
   "metadata": {},
   "outputs": [
    {
     "data": {
      "text/plain": [
       "True"
      ]
     },
     "execution_count": 2,
     "metadata": {},
     "output_type": "execute_result"
    }
   ],
   "source": [
    "load_dotenv()"
   ]
  },
  {
   "cell_type": "code",
   "execution_count": 3,
   "id": "49a1c1c3-9635-4992-b020-842eb1074a68",
   "metadata": {},
   "outputs": [],
   "source": [
    "from dash.etl.extract_mun_data import Extractor\n",
    "import pandas as pd\n",
    "from config import CKAN_DOMAIN\n",
    "from typing import Generator"
   ]
  },
  {
   "cell_type": "code",
   "execution_count": 4,
   "id": "b346230a-ab46-420a-a5ae-c2d68e2a02c5",
   "metadata": {},
   "outputs": [],
   "source": [
    "ckan = Extractor(CKAN_DOMAIN)"
   ]
  },
  {
   "cell_type": "code",
   "execution_count": 5,
   "id": "5a2cc3a3-fdf1-42c6-912a-ff52bf5ecb18",
   "metadata": {},
   "outputs": [],
   "source": [
    "packages = ckan.check_available_packages()"
   ]
  },
  {
   "cell_type": "code",
   "execution_count": 6,
   "id": "d1606086-4109-4615-bc20-ac0ee91635e9",
   "metadata": {},
   "outputs": [],
   "source": [
    "result = ckan.get_specified_package_with_resources('populacao-municipal-2010-2022', '2021')"
   ]
  },
  {
   "cell_type": "code",
   "execution_count": 7,
   "id": "ab76d4ba-106a-4365-a909-e19e59fa325f",
   "metadata": {},
   "outputs": [
    {
     "name": "stderr",
     "output_type": "stream",
     "text": [
      "C:\\Users\\x381890\\Desktop\\parceria_sepep_seade\\venv\\Lib\\site-packages\\pandas\\core\\internals\\construction.py:568: VisibleDeprecationWarning: Creating an ndarray from ragged nested sequences (which is a list-or-tuple of lists-or-tuples-or ndarrays with different lengths or shapes) is deprecated. If you meant to do this, you must specify 'dtype=object' when creating the ndarray.\n",
      "  values = np.array([convert(v) for v in values])\n"
     ]
    }
   ],
   "source": [
    "df = pd.DataFrame(result)"
   ]
  },
  {
   "cell_type": "code",
   "execution_count": 8,
   "id": "c3be9c47-16de-433f-8228-c034ed7d8f5f",
   "metadata": {},
   "outputs": [
    {
     "data": {
      "text/html": [
       "<div>\n",
       "<style scoped>\n",
       "    .dataframe tbody tr th:only-of-type {\n",
       "        vertical-align: middle;\n",
       "    }\n",
       "\n",
       "    .dataframe tbody tr th {\n",
       "        vertical-align: top;\n",
       "    }\n",
       "\n",
       "    .dataframe thead th {\n",
       "        text-align: right;\n",
       "    }\n",
       "</style>\n",
       "<table border=\"1\" class=\"dataframe\">\n",
       "  <thead>\n",
       "    <tr style=\"text-align: right;\">\n",
       "      <th></th>\n",
       "      <th>0</th>\n",
       "    </tr>\n",
       "  </thead>\n",
       "  <tbody>\n",
       "    <tr>\n",
       "      <th>0</th>\n",
       "      <td>cod_ibge   municipio   ano  populacao\n",
       "0...</td>\n",
       "    </tr>\n",
       "    <tr>\n",
       "      <th>1</th>\n",
       "      <td>variavel      tipo                        ...</td>\n",
       "    </tr>\n",
       "  </tbody>\n",
       "</table>\n",
       "</div>"
      ],
      "text/plain": [
       "                                                   0\n",
       "0         cod_ibge   municipio   ano  populacao\n",
       "0...\n",
       "1      variavel      tipo                        ..."
      ]
     },
     "execution_count": 8,
     "metadata": {},
     "output_type": "execute_result"
    }
   ],
   "source": [
    "df"
   ]
  },
  {
   "cell_type": "code",
   "execution_count": 9,
   "id": "322f69c0-0214-4a23-b4bd-24b07d744369",
   "metadata": {},
   "outputs": [
    {
     "data": {
      "text/plain": [
       "set"
      ]
     },
     "execution_count": 9,
     "metadata": {},
     "output_type": "execute_result"
    }
   ],
   "source": [
    "type(ckan.ckan.pkgs)"
   ]
  },
  {
   "cell_type": "code",
   "execution_count": 10,
   "id": "03534c8a-fad1-42a4-9bda-dbb7e0e92774",
   "metadata": {},
   "outputs": [
    {
     "data": {
      "text/plain": [
       "<bound method ListResources.gen_return of <core.ckan_api_reader.extract_resource.ListResources object at 0x00000267F0CEECD0>>"
      ]
     },
     "execution_count": 10,
     "metadata": {},
     "output_type": "execute_result"
    }
   ],
   "source": [
    "ckan.ckan.gen_return"
   ]
  },
  {
   "cell_type": "code",
   "execution_count": 11,
   "id": "c991f111-4786-40b2-a893-4a9f37433c58",
   "metadata": {},
   "outputs": [
    {
     "data": {
      "text/plain": [
       "True"
      ]
     },
     "execution_count": 11,
     "metadata": {},
     "output_type": "execute_result"
    }
   ],
   "source": [
    "hasattr(ckan.ckan, 'pkgs')"
   ]
  },
  {
   "cell_type": "code",
   "execution_count": 12,
   "id": "6d8c2f98-6693-43f3-b0b2-79a0eac38126",
   "metadata": {},
   "outputs": [
    {
     "data": {
      "text/plain": [
       "\"<class 'method'>\""
      ]
     },
     "execution_count": 12,
     "metadata": {},
     "output_type": "execute_result"
    }
   ],
   "source": [
    "\"<class 'method'>\""
   ]
  },
  {
   "cell_type": "code",
   "execution_count": 13,
   "id": "34a8cb8a-8d3f-496b-9e0e-2b8e438b7387",
   "metadata": {},
   "outputs": [],
   "source": [
    "def find_atttr(obj):\n",
    "\n",
    "    attr = []\n",
    "    for name in dir(obj):\n",
    "        tipo = str(type(getattr(obj, name)))\n",
    "        if not tipo == \"<class 'method'>\" and not tipo == \"<class 'builtin_function_or_method'>\":\n",
    "         attr.append(name)\n",
    "    return attr"
   ]
  },
  {
   "cell_type": "code",
   "execution_count": 14,
   "id": "364d6dc3-aefc-48d9-9c69-13e7f0befdca",
   "metadata": {},
   "outputs": [
    {
     "data": {
      "text/plain": [
       "['__class__',\n",
       " '__delattr__',\n",
       " '__dict__',\n",
       " '__doc__',\n",
       " '__eq__',\n",
       " '__ge__',\n",
       " '__getattribute__',\n",
       " '__gt__',\n",
       " '__hash__',\n",
       " '__le__',\n",
       " '__lt__',\n",
       " '__module__',\n",
       " '__ne__',\n",
       " '__repr__',\n",
       " '__setattr__',\n",
       " '__str__',\n",
       " '__weakref__',\n",
       " 'ckan_api',\n",
       " 'download_resource',\n",
       " 'filter_by_format',\n",
       " 'pkgs',\n",
       " 'search_by_text']"
      ]
     },
     "execution_count": 14,
     "metadata": {},
     "output_type": "execute_result"
    }
   ],
   "source": [
    "find_atttr(ckan.ckan)"
   ]
  },
  {
   "cell_type": "code",
   "execution_count": 15,
   "id": "74547b14-4fe0-4f9e-aa2c-6bfeb999f542",
   "metadata": {},
   "outputs": [
    {
     "data": {
      "text/plain": [
       "False"
      ]
     },
     "execution_count": 15,
     "metadata": {},
     "output_type": "execute_result"
    }
   ],
   "source": [
    "'_ListResources__apply_filters'.startswith('__')"
   ]
  },
  {
   "cell_type": "code",
   "execution_count": 16,
   "id": "b027c257-8512-4bf2-8834-37663f3c53b4",
   "metadata": {},
   "outputs": [
    {
     "data": {
      "text/plain": [
       "\"<class 'set'>\""
      ]
     },
     "execution_count": 16,
     "metadata": {},
     "output_type": "execute_result"
    }
   ],
   "source": [
    "str(type(ckan.ckan.pkgs))"
   ]
  },
  {
   "cell_type": "code",
   "execution_count": null,
   "id": "4cf1af09-b08e-47d2-8e1d-d3128599fb96",
   "metadata": {},
   "outputs": [],
   "source": []
  }
 ],
 "metadata": {
  "kernelspec": {
   "display_name": "Python 3 (ipykernel)",
   "language": "python",
   "name": "python3"
  },
  "language_info": {
   "codemirror_mode": {
    "name": "ipython",
    "version": 3
   },
   "file_extension": ".py",
   "mimetype": "text/x-python",
   "name": "python",
   "nbconvert_exporter": "python",
   "pygments_lexer": "ipython3",
   "version": "3.11.4"
  }
 },
 "nbformat": 4,
 "nbformat_minor": 5
}
