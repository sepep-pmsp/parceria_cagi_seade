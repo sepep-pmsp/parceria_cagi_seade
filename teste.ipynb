{
 "cells": [
  {
   "cell_type": "code",
   "execution_count": null,
   "id": "3d83c514-a53f-4173-a636-9e3043354fa7",
   "metadata": {},
   "outputs": [],
   "source": [
    "from etls.scripts.municipios.extract import Extractor"
   ]
  },
  {
   "cell_type": "code",
   "execution_count": null,
   "id": "656a5ea3-e04e-43f8-9731-9c22d124770a",
   "metadata": {},
   "outputs": [],
   "source": [
    "e = Extractor()"
   ]
  },
  {
   "cell_type": "code",
   "execution_count": null,
   "id": "d5fcb1b7-71af-447e-888a-003160a55c36",
   "metadata": {},
   "outputs": [],
   "source": [
    "e.codigos_mun"
   ]
  },
  {
   "cell_type": "code",
   "execution_count": null,
   "id": "e451f3fd-5618-4c4c-ba38-229c66483a0c",
   "metadata": {},
   "outputs": [],
   "source": [
    "e('pib')"
   ]
  },
  {
   "cell_type": "code",
   "execution_count": 1,
   "id": "d5f89f71-cd92-42a5-b242-56f7ecac48cf",
   "metadata": {},
   "outputs": [],
   "source": [
    "from etls.scripts.municipios.transform_pop import Transform"
   ]
  },
  {
   "cell_type": "code",
   "execution_count": 2,
   "id": "c43ecc4b-cacd-424f-ac92-c6bf78ef35d4",
   "metadata": {},
   "outputs": [],
   "source": [
    "t = Transform()"
   ]
  },
  {
   "cell_type": "code",
   "execution_count": 3,
   "id": "d8447837-3614-468d-866e-fe3398f62e1f",
   "metadata": {},
   "outputs": [
    {
     "data": {
      "text/html": [
       "<div>\n",
       "<style scoped>\n",
       "    .dataframe tbody tr th:only-of-type {\n",
       "        vertical-align: middle;\n",
       "    }\n",
       "\n",
       "    .dataframe tbody tr th {\n",
       "        vertical-align: top;\n",
       "    }\n",
       "\n",
       "    .dataframe thead th {\n",
       "        text-align: right;\n",
       "    }\n",
       "</style>\n",
       "<table border=\"1\" class=\"dataframe\">\n",
       "  <thead>\n",
       "    <tr style=\"text-align: right;\">\n",
       "      <th></th>\n",
       "      <th>cod_municipio</th>\n",
       "      <th>habitantes</th>\n",
       "    </tr>\n",
       "  </thead>\n",
       "  <tbody>\n",
       "    <tr>\n",
       "      <th>0</th>\n",
       "      <td>3500105</td>\n",
       "      <td>33869</td>\n",
       "    </tr>\n",
       "    <tr>\n",
       "      <th>1</th>\n",
       "      <td>3500204</td>\n",
       "      <td>3436</td>\n",
       "    </tr>\n",
       "    <tr>\n",
       "      <th>2</th>\n",
       "      <td>3500303</td>\n",
       "      <td>35885</td>\n",
       "    </tr>\n",
       "    <tr>\n",
       "      <th>3</th>\n",
       "      <td>3500402</td>\n",
       "      <td>7807</td>\n",
       "    </tr>\n",
       "    <tr>\n",
       "      <th>4</th>\n",
       "      <td>3500501</td>\n",
       "      <td>18438</td>\n",
       "    </tr>\n",
       "    <tr>\n",
       "      <th>...</th>\n",
       "      <td>...</td>\n",
       "      <td>...</td>\n",
       "    </tr>\n",
       "    <tr>\n",
       "      <th>640</th>\n",
       "      <td>3556909</td>\n",
       "      <td>8091</td>\n",
       "    </tr>\n",
       "    <tr>\n",
       "      <th>641</th>\n",
       "      <td>3556958</td>\n",
       "      <td>1761</td>\n",
       "    </tr>\n",
       "    <tr>\n",
       "      <th>642</th>\n",
       "      <td>3557006</td>\n",
       "      <td>120662</td>\n",
       "    </tr>\n",
       "    <tr>\n",
       "      <th>643</th>\n",
       "      <td>3557105</td>\n",
       "      <td>92193</td>\n",
       "    </tr>\n",
       "    <tr>\n",
       "      <th>644</th>\n",
       "      <td>3557154</td>\n",
       "      <td>2574</td>\n",
       "    </tr>\n",
       "  </tbody>\n",
       "</table>\n",
       "<p>645 rows × 2 columns</p>\n",
       "</div>"
      ],
      "text/plain": [
       "     cod_municipio  habitantes\n",
       "0          3500105       33869\n",
       "1          3500204        3436\n",
       "2          3500303       35885\n",
       "3          3500402        7807\n",
       "4          3500501       18438\n",
       "..             ...         ...\n",
       "640        3556909        8091\n",
       "641        3556958        1761\n",
       "642        3557006      120662\n",
       "643        3557105       92193\n",
       "644        3557154        2574\n",
       "\n",
       "[645 rows x 2 columns]"
      ]
     },
     "execution_count": 3,
     "metadata": {},
     "output_type": "execute_result"
    }
   ],
   "source": [
    "t()"
   ]
  },
  {
   "cell_type": "code",
   "execution_count": null,
   "id": "7fb8427a-9c10-4c91-b92f-f601070734a3",
   "metadata": {},
   "outputs": [],
   "source": []
  }
 ],
 "metadata": {
  "kernelspec": {
   "display_name": "Python 3",
   "language": "python",
   "name": "python3"
  },
  "language_info": {
   "codemirror_mode": {
    "name": "ipython",
    "version": 3
   },
   "file_extension": ".py",
   "mimetype": "text/x-python",
   "name": "python",
   "nbconvert_exporter": "python",
   "pygments_lexer": "ipython3",
   "version": "3.8.8"
  }
 },
 "nbformat": 4,
 "nbformat_minor": 5
}
